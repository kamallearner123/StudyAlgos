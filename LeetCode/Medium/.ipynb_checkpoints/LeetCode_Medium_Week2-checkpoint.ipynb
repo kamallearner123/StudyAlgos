{
 "cells": [
  {
   "cell_type": "code",
   "execution_count": 24,
   "id": "a41e4580",
   "metadata": {},
   "outputs": [
    {
     "name": "stdout",
     "output_type": "stream",
     "text": [
      "final = 9, remain = 153423646\n",
      "final = 96, remain = 15342364\n",
      "final = 964, remain = 1534236\n",
      "final = 9646, remain = 153423\n",
      "final = 96463, remain = 15342\n",
      "final = 964632, remain = 1534\n",
      "final = 9646324, remain = 153\n",
      "final = 96463243, remain = 15\n",
      "final = 964632435, remain = 1\n",
      "final = 9646324351, remain = 0\n"
     ]
    },
    {
     "data": {
      "text/plain": [
       "0"
      ]
     },
     "execution_count": 24,
     "metadata": {},
     "output_type": "execute_result"
    }
   ],
   "source": [
    "def reverse( x):\n",
    "    \"\"\"\n",
    "    :type x: int\n",
    "    :rtype: int\n",
    "    \"\"\"\n",
    "    final = 0\n",
    "        \n",
    "    if x < 0:\n",
    "        remain = x*(-1)\n",
    "    else:\n",
    "        remain = x\n",
    "    power = 0\n",
    "    while remain != 0:\n",
    "        final = remain%10 + (final * (10))\n",
    "        power += 1\n",
    "        remain = remain//10\n",
    "        print(\"final = {}, remain = {}\".format(final,remain))\n",
    "\n",
    "    if final > 2**31:\n",
    "        return 0\n",
    "    elif final < -(2**31+1):\n",
    "        return 0\n",
    "    \n",
    "    elif x<0:\n",
    "        return final*(-1)\n",
    "    else:\n",
    "        return final\n",
    "    \n",
    "reverse(1534236469)\n",
    "\n",
    "    "
   ]
  },
  {
   "cell_type": "code",
   "execution_count": 22,
   "id": "1b392d69",
   "metadata": {},
   "outputs": [
    {
     "data": {
      "text/plain": [
       "False"
      ]
     },
     "execution_count": 22,
     "metadata": {},
     "output_type": "execute_result"
    }
   ],
   "source": [
    "2**32 > 9646324351"
   ]
  },
  {
   "cell_type": "code",
   "execution_count": 28,
   "id": "4fe7ee5d",
   "metadata": {},
   "outputs": [
    {
     "data": {
      "text/plain": [
       "-321"
      ]
     },
     "execution_count": 28,
     "metadata": {},
     "output_type": "execute_result"
    }
   ],
   "source": [
    "def reverse( x):\n",
    "    \"\"\"\n",
    "    :type x: int\n",
    "    :rtype: int\n",
    "    \"\"\"\n",
    "    final = 0\n",
    "    \n",
    "    if x < 0:\n",
    "        remain = x*(-1)\n",
    "    else:\n",
    "        remain = x\n",
    "    \n",
    "    y = str(remain)\n",
    "    final = int(y[::-1])\n",
    "    if final > 2**31:\n",
    "        return 0\n",
    "    elif final < -(2**31+1):\n",
    "        return 0\n",
    "    \n",
    "    elif x<0:\n",
    "        return final*(-1)\n",
    "    else:\n",
    "        return final\n",
    "    \n",
    "reverse(-123)"
   ]
  },
  {
   "cell_type": "code",
   "execution_count": null,
   "id": "a89bc693",
   "metadata": {},
   "outputs": [],
   "source": []
  }
 ],
 "metadata": {
  "kernelspec": {
   "display_name": "Python 3",
   "language": "python",
   "name": "python3"
  },
  "language_info": {
   "codemirror_mode": {
    "name": "ipython",
    "version": 3
   },
   "file_extension": ".py",
   "mimetype": "text/x-python",
   "name": "python",
   "nbconvert_exporter": "python",
   "pygments_lexer": "ipython3",
   "version": "3.8.10"
  }
 },
 "nbformat": 4,
 "nbformat_minor": 5
}
