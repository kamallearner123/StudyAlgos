{
 "cells": [
  {
   "cell_type": "markdown",
   "id": "a2df1df2",
   "metadata": {},
   "source": [
    "Given two integer arrays pushed and popped each with distinct values, return true if this could have been the result of a sequence of push and pop operations on an initially empty stack, or false otherwise.\n",
    "\n",
    " \n",
    "\n",
    "Example 1:\n",
    "\n",
    "Input: pushed = [1,2,3,4,5], popped = [4,5,3,2,1]\n",
    "Output: true\n",
    "Explanation: We might do the following sequence:\n",
    "push(1), push(2), push(3), push(4),\n",
    "pop() -> 4,\n",
    "push(5),\n",
    "pop() -> 5, pop() -> 3, pop() -> 2, pop() -> 1\n",
    "Example 2:\n",
    "\n",
    "Input: pushed = [1,2,3,4,5], popped = [4,3,5,1,2]\n",
    "Output: false\n",
    "Explanation: 1 cannot be popped before 2.\n",
    " \n",
    "\n",
    "Constraints:\n",
    "\n",
    "1 <= pushed.length <= 1000\n",
    "0 <= pushed[i] <= 1000\n",
    "All the elements of pushed are unique.\n",
    "popped.length == pushed.length\n",
    "popped is a permutation of pushed."
   ]
  },
  {
   "cell_type": "code",
   "execution_count": null,
   "id": "26108d53",
   "metadata": {},
   "outputs": [],
   "source": [
    "def validateStackSequences(self, pushed, popped):\n",
    "    \"\"\"\n",
    "    :type pushed: List[int]\n",
    "    :type popped: List[int]\n",
    "    :rtype: bool\n",
    "    \"\"\"\n",
    "    mypush = []\n",
    "    push_offset = 0\n",
    "    \n",
    "    for element in popped:\n",
    "        #Check at th tail\n",
    "        if mypush[-1] == elemet:\n",
    "            mypush.pop()\n",
    "            continue\n",
    "            \n",
    "        #If it is not at tail, check is a part of stack\n",
    "        try:\n",
    "            index =  mypush.index(element)\n",
    "            return False\n",
    "        except:\n",
    "            pass\n",
    "        \n",
    "        #Push till the element\n",
    "        for i in range(push_offset, len(pushed)):\n",
    "            if element == pushed[i]:\n",
    "                mypush.append(pushed[i])\n",
    "                break\n",
    "            else:\n",
    "                mypush.append(pushed[i])\n",
    "        else:\n",
    "            return False\n",
    "        push_offset = i+1 #Save till where elements are pushed.\n",
    "        \n",
    "        \n",
    "        \n",
    "            "
   ]
  },
  {
   "cell_type": "code",
   "execution_count": 6,
   "id": "980aa4ac",
   "metadata": {},
   "outputs": [
    {
     "ename": "ValueError",
     "evalue": "10 is not in list",
     "output_type": "error",
     "traceback": [
      "\u001b[0;31m---------------------------------------------------------------------------\u001b[0m",
      "\u001b[0;31mValueError\u001b[0m                                Traceback (most recent call last)",
      "\u001b[0;32m<ipython-input-6-7bf55479e0b3>\u001b[0m in \u001b[0;36m<module>\u001b[0;34m\u001b[0m\n\u001b[1;32m      1\u001b[0m \u001b[0ml1\u001b[0m \u001b[0;34m=\u001b[0m \u001b[0;34m[\u001b[0m\u001b[0;36m1\u001b[0m\u001b[0;34m,\u001b[0m\u001b[0;36m2\u001b[0m\u001b[0;34m,\u001b[0m\u001b[0;36m3\u001b[0m\u001b[0;34m]\u001b[0m\u001b[0;34m\u001b[0m\u001b[0;34m\u001b[0m\u001b[0m\n\u001b[0;32m----> 2\u001b[0;31m \u001b[0ml1\u001b[0m\u001b[0;34m.\u001b[0m\u001b[0mindex\u001b[0m\u001b[0;34m(\u001b[0m\u001b[0;36m10\u001b[0m\u001b[0;34m)\u001b[0m\u001b[0;34m\u001b[0m\u001b[0;34m\u001b[0m\u001b[0m\n\u001b[0m",
      "\u001b[0;31mValueError\u001b[0m: 10 is not in list"
     ]
    }
   ],
   "source": [
    "l1 = [1,2,3]\n",
    "l1.index(10)\n",
    "l1."
   ]
  },
  {
   "cell_type": "code",
   "execution_count": null,
   "id": "9d4cd927",
   "metadata": {},
   "outputs": [],
   "source": []
  }
 ],
 "metadata": {
  "kernelspec": {
   "display_name": "Python 3",
   "language": "python",
   "name": "python3"
  },
  "language_info": {
   "codemirror_mode": {
    "name": "ipython",
    "version": 3
   },
   "file_extension": ".py",
   "mimetype": "text/x-python",
   "name": "python",
   "nbconvert_exporter": "python",
   "pygments_lexer": "ipython3",
   "version": "3.8.10"
  }
 },
 "nbformat": 4,
 "nbformat_minor": 5
}
