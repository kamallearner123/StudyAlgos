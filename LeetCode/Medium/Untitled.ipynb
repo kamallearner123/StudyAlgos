{
 "cells": [
  {
   "cell_type": "code",
   "execution_count": 7,
   "id": "6aefeac6",
   "metadata": {},
   "outputs": [
    {
     "name": "stdout",
     "output_type": "stream",
     "text": [
      "49\n",
      "40\n",
      "1\n",
      "0\n",
      "0\n",
      "40\n"
     ]
    }
   ],
   "source": [
    "def maxArea(height):\n",
    "    \"\"\"\n",
    "    :type height: List[int]\n",
    "    :rtype: int\n",
    "    \"\"\"\n",
    "    i = 0\n",
    "    j = len(height)-1\n",
    "    max_height = 0\n",
    "    \n",
    "    while i<j:\n",
    "        a = height[i]\n",
    "        b = height[j]\n",
    "        m = min(a,b)\n",
    "\n",
    "        #print(\"a={}, b={}, max = {}\".format(a,b, m*(j-i)))\n",
    "        \n",
    "        if a<0:\n",
    "            i += 1\n",
    "            continue\n",
    "        if b<0:\n",
    "            j -= 1\n",
    "        \n",
    "        if max_height < m*(j-i):\n",
    "            max_height = m*(j-i)\n",
    "            \n",
    "        if a<b:\n",
    "            i += 1\n",
    "        else:\n",
    "            j -= 1\n",
    "    return max_height\n",
    "\n",
    "print(maxArea([1,8,6,2,5,4,8,3,7]))\n",
    "print(maxArea([1,8,6,2,5,4,8,3,-7]))\n",
    "print(maxArea([1,1]))\n",
    "print(maxArea([]))\n",
    "print(maxArea([-1,-8,-6,-2,-5,-4,-8,-3,-7]))\n",
    "print(maxArea([1,8,6,2,5,4,8,3,-7]))"
   ]
  },
  {
   "cell_type": "code",
   "execution_count": 17,
   "id": "9719e4e4",
   "metadata": {},
   "outputs": [
    {
     "name": "stdout",
     "output_type": "stream",
     "text": [
      "((a(b(c)d)))\n",
      "()\n",
      "((a()))\n",
      "(a(b(c))\n"
     ]
    }
   ],
   "source": [
    "def minRemoveToMakeValid(s):\n",
    "    \"\"\"\n",
    "    :type s: str\n",
    "    :rtype: str\n",
    "    \"\"\"\n",
    "    l1 = list(s)\n",
    "    stack = []\n",
    "    rem_stack = []\n",
    "    \n",
    "    for i,c in enumerate(s):\n",
    "        if c==\"(\":\n",
    "            stack.append((i,c))\n",
    "        elif c==\")\":\n",
    "            try:\n",
    "                item = stack.pop()\n",
    "                if \"(\" != item[1]:\n",
    "                    rem_stack.append(item[0])\n",
    "                    rem_stack.append(i)\n",
    "            except (IndexError):\n",
    "                rem_stack.append(i)\n",
    "                \n",
    "    for item in rem_stack:\n",
    "        l1[item] = ''\n",
    "\n",
    "        \n",
    "    return \"\".join(l1)\n",
    "\n",
    "print(minRemoveToMakeValid(\"((a(b(c)d)))\"))\n",
    "print(minRemoveToMakeValid(\"())\"))\n",
    "print(minRemoveToMakeValid(\"((a()))\"))\n",
    "print(minRemoveToMakeValid(\"(a(b(c))\"))\n"
   ]
  },
  {
   "cell_type": "code",
   "execution_count": 38,
   "id": "ff049937",
   "metadata": {},
   "outputs": [
    {
     "name": "stdout",
     "output_type": "stream",
     "text": [
      "poping  (\n",
      "poping  (\n",
      "Extra close brace\n"
     ]
    }
   ],
   "source": [
    "exp = \"10+2*(3-4)\"\n",
    "\n",
    "\n",
    "s1 = \"(a+b)*c*(e+f))\"\n",
    "stack = []\n",
    "for i in s1:\n",
    "    if i == \"(\":\n",
    "        stack.append(i)\n",
    "    elif i == \")\":\n",
    "        if len(stack) == 0:\n",
    "            print(\"Extra close brace\")\n",
    "        else:\n",
    "            print(\"poping \", stack.pop())\n",
    "    "
   ]
  },
  {
   "cell_type": "code",
   "execution_count": 29,
   "id": "c5363d5a",
   "metadata": {},
   "outputs": [
    {
     "name": "stdout",
     "output_type": "stream",
     "text": [
      "[10, 20, 30]\n",
      "[10, 20]\n"
     ]
    }
   ],
   "source": [
    "l1 = []\n",
    "l1.append(10)\n",
    "l1.append(20)\n",
    "l1.append(30)\n",
    "print(l1)\n",
    "#l1.pop(0) #queue\n",
    "val = l1.pop()\n",
    "print(l1)\n",
    "\n",
    "\n"
   ]
  },
  {
   "cell_type": "code",
   "execution_count": 36,
   "id": "efd2dbc8",
   "metadata": {},
   "outputs": [
    {
     "name": "stdout",
     "output_type": "stream",
     "text": [
      "[5, 4, 3, 2, 1]\n"
     ]
    }
   ],
   "source": [
    "l1 = [1,2,3,4,5]\n",
    "l2 = l1[::-1]\n",
    "print(l2)"
   ]
  },
  {
   "cell_type": "code",
   "execution_count": 61,
   "id": "ef94a027",
   "metadata": {},
   "outputs": [
    {
     "name": "stdout",
     "output_type": "stream",
     "text": [
      "((1023+(2*2))*(3-4))\n",
      "nums =  []\n",
      "exps =  []\n",
      "nums =  []\n",
      "exps =  []\n",
      "nums =  [1023]\n",
      "exps =  ['+']\n",
      "nums =  [1023]\n",
      "exps =  ['+']\n",
      "nums =  [1023, 2]\n",
      "exps =  ['+', '*']\n",
      "nums =  [1023, 2, 2]\n",
      "exps =  ['+', '*']\n",
      "nums =  [1023, 4]\n",
      "exps =  ['+']\n",
      "nums =  [1027]\n",
      "exps =  ['*']\n",
      "nums =  [1027]\n",
      "exps =  ['*']\n",
      "nums =  [1027, 3]\n",
      "exps =  ['*', '-']\n",
      "nums =  [1027, 3, 4]\n",
      "exps =  ['*', '-']\n",
      "nums =  [1027, -1]\n",
      "exps =  ['*']\n",
      "-1027\n"
     ]
    }
   ],
   "source": [
    "exp = minRemoveToMakeValid(\"((1023+(2*2))*(3-4))))))\")\n",
    "print(exp)\n",
    "nums = []\n",
    "exps = []\n",
    "\n",
    "def resolve_exp(arg2, arg1, op):\n",
    "    if op==\"+\":\n",
    "        return arg1+arg2\n",
    "    elif op==\"-\":\n",
    "        return arg1-arg2\n",
    "    elif op==\"*\":\n",
    "        return arg1*arg2\n",
    "    elif op==\"/\":\n",
    "        return arg1/arg2\n",
    "    else:\n",
    "        print(\"Invalid expression\")\n",
    "\n",
    "num = 0\n",
    "for c in exp:\n",
    "    if c not in \"*/%+-)()\":\n",
    "        num = int(c)+num*10# 3+  102*10\n",
    "    else:\n",
    "        \n",
    "        if c!= \"(\" and c!= \")\":\n",
    "            exps.append(c)#pushing expression to stack exps\n",
    "        \n",
    "        if num != 0:\n",
    "            nums.append(num)#pushing num to stack nums\n",
    "        num = 0\n",
    "        tens = 0\n",
    "        print(\"nums = \", nums)\n",
    "        print(\"exps = \", exps)\n",
    "        \n",
    "        if c==\")\":\n",
    "            result = resolve_exp(nums.pop(), nums.pop(), exps.pop())\n",
    "            nums.append(result)\n",
    "            \n",
    "print(result)\n",
    "    "
   ]
  },
  {
   "cell_type": "code",
   "execution_count": null,
   "id": "2e65eee0",
   "metadata": {},
   "outputs": [],
   "source": [
    "120,630\n",
    "\n",
    "HCF\n",
    "\n"
   ]
  }
 ],
 "metadata": {
  "kernelspec": {
   "display_name": "Python 3",
   "language": "python",
   "name": "python3"
  },
  "language_info": {
   "codemirror_mode": {
    "name": "ipython",
    "version": 3
   },
   "file_extension": ".py",
   "mimetype": "text/x-python",
   "name": "python",
   "nbconvert_exporter": "python",
   "pygments_lexer": "ipython3",
   "version": "3.8.10"
  }
 },
 "nbformat": 4,
 "nbformat_minor": 5
}
