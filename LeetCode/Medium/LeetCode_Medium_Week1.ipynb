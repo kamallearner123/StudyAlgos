{
 "cells": [
  {
   "cell_type": "markdown",
   "id": "c2970d47",
   "metadata": {},
   "source": [
    "Given two integer arrays pushed and popped each with distinct values, return true if this could have been the result of a sequence of push and pop operations on an initially empty stack, or false otherwise.\n",
    "\n",
    " \n",
    "\n",
    "Example 1:\n",
    "\n",
    "Input: pushed = [1,2,3,4,5], popped = [4,5,3,2,1]\n",
    "Output: true\n",
    "Explanation: We might do the following sequence:\n",
    "push(1), push(2), push(3), push(4),\n",
    "pop() -> 4,\n",
    "push(5),\n",
    "pop() -> 5, pop() -> 3, pop() -> 2, pop() -> 1\n",
    "Example 2:\n",
    "\n",
    "Input: pushed = [1,2,3,4,5], popped = [4,3,5,1,2]\n",
    "Output: false\n",
    "Explanation: 1 cannot be popped before 2.\n",
    " \n",
    "\n",
    "Constraints:\n",
    "\n",
    "1 <= pushed.length <= 1000\n",
    "0 <= pushed[i] <= 1000\n",
    "All the elements of pushed are unique.\n",
    "popped.length == pushed.length\n",
    "popped is a permutation of pushed."
   ]
  },
  {
   "cell_type": "code",
   "execution_count": 1,
   "id": "be801d67",
   "metadata": {},
   "outputs": [
    {
     "name": "stdout",
     "output_type": "stream",
     "text": [
      "/home/aiengineer/Documents/1.Github/StudyAlgos/LeetCode/Medium\n"
     ]
    }
   ],
   "source": [
    "import os\n",
    "print(os.getcwd())"
   ]
  },
  {
   "cell_type": "code",
   "execution_count": 26,
   "id": "dc3873cf",
   "metadata": {},
   "outputs": [
    {
     "name": "stdout",
     "output_type": "stream",
     "text": [
      "True\n",
      "False\n",
      "False\n",
      "False\n"
     ]
    }
   ],
   "source": [
    "def validateStackSequences(pushed, popped):\n",
    "    \"\"\"\n",
    "    :type pushed: List[int]\n",
    "    :type popped: List[int]\n",
    "    :rtype: bool\n",
    "    \"\"\"\n",
    "    mypush = []\n",
    "    push_offset = 0\n",
    "    \n",
    "    if len(pushed) == 0:\n",
    "        if len(popped) == 0:\n",
    "            return True\n",
    "        else:\n",
    "            return False\n",
    "    elif len(popped) == 0:\n",
    "        return False\n",
    "        \n",
    "    \n",
    "    for element in popped:\n",
    "        #Check at th tail\n",
    "        if len(mypush) != 0 and mypush[-1] == element:\n",
    "            mypush.pop()\n",
    "            continue\n",
    "            \n",
    "        #If it is not at tail, check is a part of stack\n",
    "        if element in mypush:\n",
    "            return False\n",
    "        \n",
    "        #Push till the element\n",
    "        for i in range(push_offset, len(pushed)):\n",
    "            if element == pushed[i]:\n",
    "                mypush.append(pushed[i])\n",
    "                mypush.pop()\n",
    "                break\n",
    "            else:\n",
    "                mypush.append(pushed[i])\n",
    "        else:\n",
    "            return False\n",
    "        push_offset = i+1 #Save till where elements are pushed.\n",
    "        \n",
    "    return True\n",
    "        \n",
    "print(validateStackSequences([1,2,3,4],[3,4,2,1]))\n",
    "print(validateStackSequences([],[3,4,2,1]) )  \n",
    "print(validateStackSequences([1,2,3,4],[]) ) \n",
    "print(validateStackSequences([1,2,3,4],[4,2,1]) ) "
   ]
  },
  {
   "cell_type": "code",
   "execution_count": 9,
   "id": "f7a694d2",
   "metadata": {},
   "outputs": [
    {
     "name": "stdout",
     "output_type": "stream",
     "text": [
      "haha\n"
     ]
    }
   ],
   "source": [
    "l1 = [1,2,3]\n",
    "if 1 in l1:\n",
    "    print(\"haha\")"
   ]
  },
  {
   "cell_type": "markdown",
   "id": "4446d5c3",
   "metadata": {},
   "source": [
    "5. Longest Palindromic Substring\n",
    "Medium\n",
    "\n",
    "16533\n",
    "\n",
    "971\n",
    "\n",
    "Add to List\n",
    "\n",
    "Share\n",
    "Given a string s, return the longest palindromic substring in s.\n",
    "\n",
    " \n",
    "\n",
    "Example 1:\n",
    "\n",
    "Input: s = \"babad\"\n",
    "Output: \"bab\"\n",
    "Explanation: \"aba\" is also a valid answer.\n",
    "Example 2:\n",
    "\n",
    "Input: s = \"cbbd\"\n",
    "Output: \"bb\"\n",
    " \n",
    "\n",
    "Constraints:\n",
    "\n",
    "1 <= s.length <= 1000\n",
    "s consist of only digits and English letters."
   ]
  },
  {
   "cell_type": "code",
   "execution_count": 55,
   "id": "061b0a04",
   "metadata": {},
   "outputs": [
    {
     "name": "stdout",
     "output_type": "stream",
     "text": [
      "bab\n",
      "None\n",
      "aa\n",
      "bab\n"
     ]
    }
   ],
   "source": [
    "def longestPalindrome(s):\n",
    "    \"\"\"\n",
    "    :type s: str\n",
    "    :rtype: str\n",
    "    \"\"\"\n",
    "    s_len = len(s)\n",
    "    if s_len == 0 or s_len == 1:\n",
    "        return None\n",
    "\n",
    "    index = 0\n",
    "    max_len = 0\n",
    "    \n",
    "    for i in range(1,len(s)):\n",
    "        \n",
    "        left = i\n",
    "        right = i\n",
    "        \n",
    "        while right+1 < s_len or left-1>= 0:\n",
    "            if left-1>= 0 and s[left-1] == s[i]:\n",
    "                left -=1\n",
    "\n",
    "            elif right+1 < s_len and s[right+1] == s[i]:\n",
    "                right+=1\n",
    "\n",
    "            else:\n",
    "                break\n",
    "        #print(\"left = {}, right = {}\", left, right)\n",
    "                \n",
    "        #need to decide left and right\n",
    "        while True:\n",
    "\n",
    "            if right+1 >= s_len or left-1< 0:\n",
    "                break\n",
    "            if  s[left-1] != s[right+1]:\n",
    "                break\n",
    "            right+=1\n",
    "            left-=1\n",
    "            #print(\"----left = {}, right = {}\", left, right)\n",
    "        \n",
    "        temp_len = right-left+1\n",
    "        if temp_len > max_len:\n",
    "            best_left = left\n",
    "            max_len = temp_len\n",
    "        \n",
    "    \n",
    "    temp_len = right-left+1\n",
    "    if temp_len > max_len:\n",
    "        best_left = left\n",
    "        max_len = temp_len\n",
    "    \n",
    "    #print(\"----best_left = {}, max_len = {}\", best_left, max_len)\n",
    "    if max_len > 1:\n",
    "        return (s[best_left:best_left+max_len])\n",
    "    \n",
    "    \n",
    "\n",
    "print(longestPalindrome(\"babad\"))\n",
    "print(longestPalindrome(\"\"))\n",
    "print(longestPalindrome(\"aa\"))\n",
    "print(longestPalindrome(\"babad\"))\n"
   ]
  },
  {
   "cell_type": "code",
   "execution_count": 104,
   "id": "bb0ca39e",
   "metadata": {},
   "outputs": [
    {
     "name": "stdout",
     "output_type": "stream",
     "text": [
      "19hp28agioq37bfjnr46cekms5dl\n",
      "None\n",
      "None\n",
      "132\n"
     ]
    }
   ],
   "source": [
    "def convert(s, numRows):\n",
    "    \"\"\"\n",
    "    :type s: str\n",
    "    :type numRows: int\n",
    "    :rtype: str\n",
    "    \"\"\"\n",
    "    \n",
    "    if len(s) == 0 or numRows==0 or numRows==1:\n",
    "        return None\n",
    "    \n",
    "    array = []\n",
    "    col = -1\n",
    "    offset = 0\n",
    "    while True:\n",
    "        col +=1\n",
    "        temp = [None]*numRows\n",
    "        if col%(numRows-1) == 0:\n",
    "            for i in range(numRows):\n",
    "                temp[i] = s[offset]\n",
    "                offset +=1\n",
    "                if offset >= len(s):\n",
    "                    break\n",
    "            array.append(temp)#Appending to main array\n",
    "        else:\n",
    "            lcol = col%(numRows-1)#1,2,3,5,6\n",
    "            temp[numRows-lcol-1] = s[offset]\n",
    "            array.append(temp)\n",
    "            offset += 1\n",
    "\n",
    "        if offset >= len(s):\n",
    "            break\n",
    "        \n",
    "    finalstring = ''\n",
    "    for i in range(numRows):\n",
    "        for j in range(col+1):\n",
    "            if (array[j][i] !=None):\n",
    "                finalstring += array[j][i]\n",
    "    return finalstring\n",
    "\n",
    "        \n",
    "print(convert(\"123456789abcdefghijklmnopqrs\",5))\n",
    "print(convert(\"\",5))\n",
    "print(convert(\"123\",0))\n",
    "print(convert(\"123\",2))"
   ]
  },
  {
   "cell_type": "code",
   "execution_count": null,
   "id": "038ee44e",
   "metadata": {},
   "outputs": [],
   "source": [
    "\n",
    "s1 = \"hello world\"\n",
    "numRows = 3\n"
   ]
  },
  {
   "cell_type": "code",
   "execution_count": 59,
   "id": "a78ee44e",
   "metadata": {},
   "outputs": [
    {
     "name": "stdout",
     "output_type": "stream",
     "text": [
      "[0, 0, 0, 0, 0, 0, 0, 0, 0, 0]\n"
     ]
    }
   ],
   "source": [
    "a = [0]*10\n",
    "print(a)"
   ]
  },
  {
   "cell_type": "code",
   "execution_count": null,
   "id": "1b207f51",
   "metadata": {},
   "outputs": [],
   "source": []
  }
 ],
 "metadata": {
  "kernelspec": {
   "display_name": "Python 3",
   "language": "python",
   "name": "python3"
  },
  "language_info": {
   "codemirror_mode": {
    "name": "ipython",
    "version": 3
   },
   "file_extension": ".py",
   "mimetype": "text/x-python",
   "name": "python",
   "nbconvert_exporter": "python",
   "pygments_lexer": "ipython3",
   "version": "3.8.10"
  }
 },
 "nbformat": 4,
 "nbformat_minor": 5
}
