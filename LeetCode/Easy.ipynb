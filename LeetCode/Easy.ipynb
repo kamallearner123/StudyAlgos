{
 "cells": [
  {
   "cell_type": "code",
   "execution_count": 6,
   "id": "ca016b02",
   "metadata": {},
   "outputs": [
    {
     "name": "stdout",
     "output_type": "stream",
     "text": [
      "[4]\n",
      "[4, 6]\n",
      "[4, 6, 8]\n",
      "[4, 6, 8, 10]\n",
      "[4, 6, 8, 10]\n"
     ]
    }
   ],
   "source": [
    "\n",
    "\n",
    "a = [1,2,3,4]\n",
    "b = [3,4,5,6]\n",
    "c = []\n",
    "for i,j in zip(a,b):\n",
    "    c.append(i+j)\n",
    "    print(c)\n",
    "\n"
   ]
  },
  {
   "cell_type": "code",
   "execution_count": 11,
   "id": "061e6ffe",
   "metadata": {},
   "outputs": [
    {
     "name": "stdout",
     "output_type": "stream",
     "text": [
      "38\n"
     ]
    }
   ],
   "source": [
    "def romanToInt(s):\n",
    "    d1 = {\"X\":10, \"I\":1, \"V\":5, \"C\":100, \"L\":50, \"D\":500, \"M\":1000} #defining dictionary\n",
    "    num = 0\n",
    "    \n",
    "    order = \"IVXLCDM\"\n",
    "    mark = 0\n",
    "    \n",
    "    for char in s[::-1]:\n",
    "        if (order.index(char) < mark):\n",
    "            num -= int(d1[char])\n",
    "        else:\n",
    "            num += int(d1[char])\n",
    "            mark = order.index(char)\n",
    "        \n",
    "    print(num)\n",
    "\n",
    "romanToInt(\"XXXVIII\")"
   ]
  },
  {
   "cell_type": "code",
   "execution_count": 10,
   "id": "6199df61",
   "metadata": {},
   "outputs": [
    {
     "name": "stdout",
     "output_type": "stream",
     "text": [
      "10\n"
     ]
    }
   ],
   "source": [
    "d1 = {\"X\":10, \n",
    "      \"I\":1, \n",
    "      \"V\":5, \n",
    "      \"C\":100, \n",
    "      \"L\":50, \n",
    "      \"D\":500, \n",
    "      \"M\":1000}\n",
    "\n",
    "print(d1[\"X\"])"
   ]
  },
  {
   "cell_type": "code",
   "execution_count": 37,
   "id": "57da6948",
   "metadata": {},
   "outputs": [
    {
     "name": "stdout",
     "output_type": "stream",
     "text": [
      "0\n",
      "0\n",
      "0\n",
      "2\n"
     ]
    },
    {
     "data": {
      "text/plain": [
       "'MM'"
      ]
     },
     "execution_count": 37,
     "metadata": {},
     "output_type": "execute_result"
    }
   ],
   "source": [
    "def InttoRoman(s):\n",
    "    r1 = [[\"I\",\"V\",\"X\"],[\"X\",\"L\",\"C\"],[\"C\",\"D\",\"M\"],\"M\"]\n",
    "    lookup = {0:[],1:[0],2:[0,0],3:[0,0,0],4:[0,1],5:[1],6:[1,0],7:[1,0,0],8:[1,0,0,0],9:[0,2]}\n",
    "    \n",
    "    num = s\n",
    "    tens = 0\n",
    "    s1 = \"\"\n",
    "    while num != 0:\n",
    "        n1 = num%10\n",
    "        num = int(num/10)\n",
    "        \n",
    "        print(n1)\n",
    "        if (tens > 2):\n",
    "            s1 +=\"M\"*n1\n",
    "            tens +=1\n",
    "            continue\n",
    "        \n",
    "        s2 = \"\"\n",
    "        for i in lookup[n1]:\n",
    "            s2 += r1[tens][i]\n",
    "                    \n",
    "        tens +=1\n",
    "        s1 +=s2[::-1]\n",
    "        \n",
    "    return s1\n",
    "        \n",
    "\n",
    "InttoRoman(2000)"
   ]
  },
  {
   "cell_type": "code",
   "execution_count": null,
   "id": "5d5836ff",
   "metadata": {},
   "outputs": [],
   "source": []
  }
 ],
 "metadata": {
  "kernelspec": {
   "display_name": "Python 3",
   "language": "python",
   "name": "python3"
  },
  "language_info": {
   "codemirror_mode": {
    "name": "ipython",
    "version": 3
   },
   "file_extension": ".py",
   "mimetype": "text/x-python",
   "name": "python",
   "nbconvert_exporter": "python",
   "pygments_lexer": "ipython3",
   "version": "3.8.10"
  }
 },
 "nbformat": 4,
 "nbformat_minor": 5
}
