{
 "cells": [
  {
   "cell_type": "code",
   "execution_count": 18,
   "id": "e5c62ab2",
   "metadata": {},
   "outputs": [
    {
     "name": "stdout",
     "output_type": "stream",
     "text": [
      "B\n",
      "C\n"
     ]
    }
   ],
   "source": [
    "class Node:\n",
    "    nodes = dict() #Class variable\n",
    "    \n",
    "    def __init__(self, name):\n",
    "        self.name = name\n",
    "        Node.nodes[name] = self\n",
    "        \n",
    "    def add_friends(self, friends):\n",
    "        self.friends = friends\n",
    "\n",
    "    def print_friends(self):\n",
    "        for i in self.friends:\n",
    "            print(i.name)\n",
    "    \n",
    "    def find_path(self, dest):\n",
    "        q = []\n",
    "        q.append(self.friends)\n",
    "        \n",
    "        \n",
    "a = Node(\"A\")\n",
    "b = Node(\"B\")\n",
    "c = Node(\"C\")\n",
    "d = Node(\"D\")\n",
    "e = Node(\"E\")\n",
    "f = Node(\"F\")\n",
    "g = Node(\"G\")\n",
    "h = Node(\"H\")\n",
    "\n",
    "a.add_friends({b:3,c:6}) #Adjecent list\n",
    "b.add_friends({e:11,d:4, c:4})\n",
    "c.add_friends({d:8,g:11})\n",
    "d.add_friends({e:4,f:3,g:2})\n",
    "e.add_friends({h:9})\n",
    "f.add_friends({h:1})\n",
    "g.add_friends({h:2})\n",
    "\n",
    "a.print_friends()\n",
    "\n"
   ]
  },
  {
   "cell_type": "code",
   "execution_count": 8,
   "id": "293affd9",
   "metadata": {},
   "outputs": [],
   "source": [
    "board = [\n",
    "    [1,1,0,0,1],\n",
    "    [0,1,1,0,0],\n",
    "    [1,1,0,0,0],\n",
    "    [1,0,0,0,0],\n",
    "    [1,1,0,0,0]\n",
    "]\n",
    "k\n"
   ]
  },
  {
   "cell_type": "code",
   "execution_count": null,
   "id": "7527eee7",
   "metadata": {},
   "outputs": [],
   "source": [
    "'''\n",
    "MQTT server:\n",
    "\n",
    "Functionalities:\n",
    "===============\n",
    "1) It runs on TCP port (1818)\n",
    "2) It reads the message from each  client (PUT:Token, GET:Tocken)\n",
    "    Request   =>   \"GET:Temperature\"\n",
    "                   \"PUT:Humidity:100\"\n",
    "    \n",
    "3) Maintains seperate Qs for each token\n",
    "Temperature: 12->13->14->10->5->0 (last 10hours)\n",
    "Humidity: 12->13->14->10->5->0 (last 10hours)\n",
    "\n",
    "Non-Functionalities:\n",
    "====================\n",
    "1) 1000 Parallel connections (on 10 threads)\n",
    "2) Backup for persistency \n",
    "3) Duplicate node\n",
    "4) OM (Auto startup)\n",
    "\n",
    "'''\n",
    "\n",
    "\n",
    "'''\n",
    "1) Design docs, block diagrams\n",
    "2) Devide and conqor\n",
    "3) By testing with GDB \n",
    "4) By analysing make files (dependencies)\n",
    "5) In and out of modules (IPC, APIs, Sockets, interface,...)\n",
    "\n",
    "'''"
   ]
  },
  {
   "cell_type": "code",
   "execution_count": null,
   "id": "1da41b88",
   "metadata": {},
   "outputs": [],
   "source": [
    "\"\n",
    "include makefile1\n",
    "\n",
    "mod1.a: fil1.o file2.o\n",
    "    gcc arc mod2.a fil1.o file2.o\n",
    "    \n",
    "    \n",
    "mod2.a: fil1.o file2.o\n",
    "    gcc arc mod2.a fil1.o file2.o\n",
    "\n",
    "\n",
    "facebook: mod1.a mod2.a\n",
    "    gcc face.c mod1.a mod2.a\n",
    "\""
   ]
  },
  {
   "cell_type": "code",
   "execution_count": 54,
   "id": "917c17b2",
   "metadata": {},
   "outputs": [
    {
     "data": {
      "text/plain": [
       "'312211'"
      ]
     },
     "execution_count": 54,
     "metadata": {},
     "output_type": "execute_result"
    }
   ],
   "source": [
    "\n",
    "def countAndSay(n):\n",
    "    \"\"\"\n",
    "    :type n: int\n",
    "    :rtype: str\n",
    "    \"\"\"\n",
    "    if n == 1:\n",
    "        return \"1\"\n",
    "    \n",
    "    final = \"1\"\n",
    "    for i in range(n-1):\n",
    "        in1 = final\n",
    "        final = ''\n",
    "        curr = in1[0]\n",
    "        count = 1\n",
    "        for i in range(1,len(in1)):\n",
    "            if curr == in1[i]:\n",
    "                count +=1\n",
    "                continue\n",
    "            else:\n",
    "                final += str(count)+str(curr)\n",
    "                curr = in1[i]\n",
    "                count = 1\n",
    "\n",
    "        final += str(count)+str(curr)\n",
    "        \n",
    "    return final\n",
    "\n",
    "countAndSay(6)\n",
    "\n"
   ]
  },
  {
   "cell_type": "code",
   "execution_count": 3,
   "id": "56f135bc",
   "metadata": {},
   "outputs": [
    {
     "name": "stdout",
     "output_type": "stream",
     "text": [
      "m= 2\n",
      "m= 1\n",
      "m= -2\n",
      "m= 0\n",
      "-1\n"
     ]
    }
   ],
   "source": [
    "def search(nums, target):\n",
    "    \"\"\"\n",
    "    :type nums: List[int]\n",
    "    :type target: int\n",
    "    :rtype: int\n",
    "    \"\"\"\n",
    "    s = 0\n",
    "    e = len(nums)\n",
    "    #Binary search to get starting point\n",
    "    while True:\n",
    "        m = (e-s)//2\n",
    "        print(\"m=\",m)\n",
    "        if m==0:\n",
    "            break\n",
    "            \n",
    "        if nums[s] > nums[m]:\n",
    "            e = m-1\n",
    "        else:\n",
    "            s = m+1\n",
    "    print(s)\n",
    "search([1,2,3,4,0], 4)"
   ]
  },
  {
   "cell_type": "code",
   "execution_count": null,
   "id": "e9c01b8c",
   "metadata": {},
   "outputs": [],
   "source": []
  }
 ],
 "metadata": {
  "kernelspec": {
   "display_name": "Python 3",
   "language": "python",
   "name": "python3"
  },
  "language_info": {
   "codemirror_mode": {
    "name": "ipython",
    "version": 3
   },
   "file_extension": ".py",
   "mimetype": "text/x-python",
   "name": "python",
   "nbconvert_exporter": "python",
   "pygments_lexer": "ipython3",
   "version": "3.8.10"
  }
 },
 "nbformat": 4,
 "nbformat_minor": 5
}
