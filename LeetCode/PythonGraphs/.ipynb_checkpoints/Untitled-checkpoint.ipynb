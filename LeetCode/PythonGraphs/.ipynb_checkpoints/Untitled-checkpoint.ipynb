{
 "cells": [
  {
   "cell_type": "code",
   "execution_count": null,
   "id": "280d6a33",
   "metadata": {},
   "outputs": [],
   "source": [
    "class Node:\n",
    "    node = dict()\n",
    "    fromnode=None\n",
    "    dists = dict()\n",
    "    def __init__(self, name):\n",
    "        self.name = name\n",
    "        node[name] = self\n",
    "    def add_friends(self, friends):\n",
    "        self.friends = friends\n",
    "\n",
    "a = Node(\"A\")\n",
    "b = Node(\"B\")\n",
    "c = Node(\"C\")\n",
    "d = Node(\"D\")\n",
    "e = Node(\"E\")\n",
    "f = Node(\"F\")\n",
    "g = Node(\"G\")\n",
    "h = Node(\"H\")\n",
    "\n",
    "a.add_friends({\"B\":3,\"C\":6})\n",
    "b.add_friends({\"E\":11,\"D\":4, \"C\":4})\n",
    "c.add_friends({\"D\":8,\"G\":11})\n",
    "d.add_friends({\"E\":-4,\"F\":3,\"G\":2})\n",
    "e.add_friends({\"H\":9})\n",
    "f.add_friends({\"H\":1})\n",
    "g.add_friends({\"H\":2})\n"
   ]
  }
 ],
 "metadata": {
  "kernelspec": {
   "display_name": "Python 3",
   "language": "python",
   "name": "python3"
  },
  "language_info": {
   "codemirror_mode": {
    "name": "ipython",
    "version": 3
   },
   "file_extension": ".py",
   "mimetype": "text/x-python",
   "name": "python",
   "nbconvert_exporter": "python",
   "pygments_lexer": "ipython3",
   "version": "3.8.10"
  }
 },
 "nbformat": 4,
 "nbformat_minor": 5
}
