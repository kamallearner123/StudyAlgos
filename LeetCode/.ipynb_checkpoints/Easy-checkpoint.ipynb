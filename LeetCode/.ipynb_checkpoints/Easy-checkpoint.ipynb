{
 "cells": [
  {
   "cell_type": "code",
   "execution_count": 6,
   "id": "395ec314",
   "metadata": {},
   "outputs": [
    {
     "name": "stdout",
     "output_type": "stream",
     "text": [
      "[4]\n",
      "[4, 6]\n",
      "[4, 6, 8]\n",
      "[4, 6, 8, 10]\n",
      "[4, 6, 8, 10]\n"
     ]
    }
   ],
   "source": [
    "\n",
    "\n",
    "a = [1,2,3,4]\n",
    "b = [3,4,5,6]\n",
    "c = []\n",
    "for i,j in zip(a,b):\n",
    "    c.append(i+j)\n",
    "    print(c)\n",
    "\n"
   ]
  },
  {
   "cell_type": "code",
   "execution_count": null,
   "id": "ece4091c",
   "metadata": {},
   "outputs": [],
   "source": [
    "def romanToInt(s):\n",
    "    d1 = {\"X\":10, \"I\":1, \"V\":5, \"C\":100, \"L\":50, \"D\":500, \"M\":1000}\n",
    "    "
   ]
  },
  {
   "cell_type": "code",
   "execution_count": 10,
   "id": "141c8abf",
   "metadata": {},
   "outputs": [
    {
     "name": "stdout",
     "output_type": "stream",
     "text": [
      "10\n"
     ]
    }
   ],
   "source": [
    "d1 = {\"X\":10, \n",
    "      \"I\":1, \n",
    "      \"V\":5, \n",
    "      \"C\":100, \n",
    "      \"L\":50, \n",
    "      \"D\":500, \n",
    "      \"M\":1000}\n",
    "\n",
    "print(d1[\"X\"])"
   ]
  },
  {
   "cell_type": "code",
   "execution_count": null,
   "id": "12853e58",
   "metadata": {},
   "outputs": [],
   "source": []
  }
 ],
 "metadata": {
  "kernelspec": {
   "display_name": "Python 3",
   "language": "python",
   "name": "python3"
  },
  "language_info": {
   "codemirror_mode": {
    "name": "ipython",
    "version": 3
   },
   "file_extension": ".py",
   "mimetype": "text/x-python",
   "name": "python",
   "nbconvert_exporter": "python",
   "pygments_lexer": "ipython3",
   "version": "3.8.10"
  }
 },
 "nbformat": 4,
 "nbformat_minor": 5
}
