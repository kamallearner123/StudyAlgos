{
 "cells": [
  {
   "cell_type": "markdown",
   "metadata": {},
   "source": [
    "Topological sort:\n",
    "- Uses DFS\n",
    "- Useful for Directed Acyclic Graph\n",
    "- "
   ]
  },
  {
   "cell_type": "code",
   "execution_count": 18,
   "metadata": {},
   "outputs": [
    {
     "name": "stdout",
     "output_type": "stream",
     "text": [
      "v = 0\n",
      "v = 2\n",
      "v = 4\n",
      "v = 6\n",
      "[6]\n",
      "v = 5\n",
      "[6, 5]\n",
      "v = 3\n",
      "v = 4\n",
      "v = 1\n",
      "v = 2\n",
      "[6, 5, 1]\n",
      "[6, 5, 1, 3]\n",
      "[6, 5, 1, 3, 4]\n",
      "[6, 5, 1, 3, 4, 2]\n",
      "[6, 5, 1, 3, 4, 2, 0]\n"
     ]
    }
   ],
   "source": [
    "V = list(range(7))\n",
    "E = [[1,2], [2], [3,4], [4], [5,6], [], []]    \n",
    "\n",
    "visited = []\n",
    "stack = []\n",
    "sorted_arr = []\n",
    "\n",
    "def dfs(v):\n",
    "    print(f\"v = {v}\")\n",
    "    #check if it is there in visited\n",
    "    if v in visited:\n",
    "        return\n",
    "    \n",
    "    #add the entry in visited\n",
    "    visited.append(v)\n",
    "    \n",
    "    if len(E[v]) == 0:\n",
    "        sorted_arr.append(v)\n",
    "        print(sorted_arr)\n",
    "        return\n",
    "    \n",
    "    #Add all neighbours to stack\n",
    "    stack.extend(E[v])\n",
    "    \n",
    "    #Get entry from stack and call dfs()\n",
    "    while len(stack) != 0:\n",
    "        dfs(stack.pop())\n",
    "    sorted_arr.append(v)\n",
    "    print(sorted_arr)\n",
    "    \n",
    "for vertex in V:\n",
    "    if vertex in visited:\n",
    "        continue\n",
    "    dfs(vertex)\n",
    "\n",
    "\n"
   ]
  },
  {
   "cell_type": "code",
   "execution_count": null,
   "metadata": {},
   "outputs": [],
   "source": [
    "temp = 33\n",
    "humidity = 70\n",
    "\n",
    "rain_fall = ?\n",
    "\n",
    "\n",
    "if temp>30:\n",
    "    print(\"No rain\")\n",
    "\n",
    "if temp>25:\n",
    "    "
   ]
  }
 ],
 "metadata": {
  "kernelspec": {
   "display_name": "Python 3",
   "language": "python",
   "name": "python3"
  },
  "language_info": {
   "codemirror_mode": {
    "name": "ipython",
    "version": 3
   },
   "file_extension": ".py",
   "mimetype": "text/x-python",
   "name": "python",
   "nbconvert_exporter": "python",
   "pygments_lexer": "ipython3",
   "version": "3.8.10"
  }
 },
 "nbformat": 4,
 "nbformat_minor": 4
}
