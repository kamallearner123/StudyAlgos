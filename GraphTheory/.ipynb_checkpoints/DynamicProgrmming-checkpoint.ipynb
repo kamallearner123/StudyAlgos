{
 "cells": [
  {
   "cell_type": "code",
   "execution_count": 2,
   "id": "030aaea5",
   "metadata": {},
   "outputs": [
    {
     "name": "stdout",
     "output_type": "stream",
     "text": [
      "[1, 2, 2, 9, 8, 17, 17, 20, 24, 30]\n",
      "Enter the length of the rod!!!7\n",
      "length = 7, depth = 0\n",
      "length = 6, depth = 1\n",
      "length = 5, depth = 2\n",
      "length = 4, depth = 3\n",
      "length = 3, depth = 4\n",
      "length = 2, depth = 5\n",
      "length = 1, depth = 6\n",
      "has value for length : 1, 1\n",
      "length = 0, depth = 6\n",
      "length = 1, depth = 5\n",
      "has value for length : 1, 1\n",
      "length = 0, depth = 5\n",
      "length = 2, depth = 4\n",
      "has value for length : 2, 2\n",
      "length = 1, depth = 4\n",
      "has value for length : 1, 1\n",
      "length = 0, depth = 4\n",
      "length = 3, depth = 3\n",
      "has value for length : 3, 3\n",
      "length = 2, depth = 3\n",
      "has value for length : 2, 2\n",
      "length = 1, depth = 3\n",
      "has value for length : 1, 1\n",
      "length = 0, depth = 3\n",
      "length = 4, depth = 2\n",
      "has value for length : 4, 9\n",
      "length = 3, depth = 2\n",
      "has value for length : 3, 3\n",
      "length = 2, depth = 2\n",
      "has value for length : 2, 2\n",
      "length = 1, depth = 2\n",
      "has value for length : 1, 1\n",
      "length = 0, depth = 2\n",
      "length = 5, depth = 1\n",
      "has value for length : 5, 10\n",
      "length = 4, depth = 1\n",
      "has value for length : 4, 9\n",
      "length = 3, depth = 1\n",
      "has value for length : 3, 3\n",
      "length = 2, depth = 1\n",
      "has value for length : 2, 2\n",
      "length = 1, depth = 1\n",
      "has value for length : 1, 1\n",
      "length = 0, depth = 1\n",
      "18\n",
      "[1, 2, 3, 9, 10, 17, 18]\n",
      "[1, 1, 4, 1, 6, 1]\n"
     ]
    }
   ],
   "source": [
    "\n",
    "\n",
    "pi = [1,2,2,9,8,17,17,20,24,30]\n",
    "print(pi)\n",
    "s = []\n",
    "\n",
    "length = int(input(\"Enter the length of the rod!!!\"))\n",
    "ri = [None]*(length)\n",
    "ri[0]=pi[0]\n",
    "\n",
    "def getBestPrice(depth, length):\n",
    "    print(f\"length = {length}, depth = {depth}\")\n",
    "    if length <= 0:\n",
    "        return 0\n",
    "    \n",
    "    #using memory\n",
    "    if ri[length-1] != None:\n",
    "        print(\"has value for length : {}, {}\".format(length,ri[length-1]))\n",
    "        return ri[length-1]\n",
    "    \n",
    "    m = -1\n",
    "    for i in range(1,length+1):\n",
    "        #calc max(m, ri[i]+pi[length-i])\n",
    "        val = pi[i-1]+getBestPrice(depth+1, length-i)\n",
    "        if val>m:\n",
    "            m = val\n",
    "            ti = i\n",
    "    ri[length-1] = m\n",
    "    s.append(ti)\n",
    "    return m\n",
    "print(getBestPrice(0,length))\n",
    "        \n",
    "print(ri)\n",
    "print(s)"
   ]
  },
  {
   "cell_type": "code",
   "execution_count": 1,
   "id": "b4f084c4",
   "metadata": {},
   "outputs": [
    {
     "name": "stdout",
     "output_type": "stream",
     "text": [
      "89\n"
     ]
    }
   ],
   "source": [
    "def fib(num):\n",
    "    if num == 0 or num == 1:\n",
    "        return 1\n",
    "    return fib(num-1)+fib(num-2)\n",
    "print(fib(10))"
   ]
  },
  {
   "cell_type": "code",
   "execution_count": 29,
   "id": "b46a7668",
   "metadata": {},
   "outputs": [
    {
     "ename": "SyntaxError",
     "evalue": "invalid syntax (<ipython-input-29-10d4db30a06f>, line 12)",
     "output_type": "error",
     "traceback": [
      "\u001b[0;36m  File \u001b[0;32m\"<ipython-input-29-10d4db30a06f>\"\u001b[0;36m, line \u001b[0;32m12\u001b[0m\n\u001b[0;31m    m = max(pi[i-1]+ri[], m)\u001b[0m\n\u001b[0m                       ^\u001b[0m\n\u001b[0;31mSyntaxError\u001b[0m\u001b[0;31m:\u001b[0m invalid syntax\n"
     ]
    }
   ],
   "source": [
    "pi = [1,2,2,9,10,17,17,20,24,30]\n",
    "print(pi)\n",
    "\n",
    "length = int(input(\"Enter the length of the rod!!!\"))\n",
    "ri = [None]*length\n",
    "\n",
    "ri[0]=pi[0]\n",
    "    \n",
    "#if in dict, return\n",
    "for j in range(2, length+1):    \n",
    "    m = -1\n",
    "    for i in range(1,j+1):\n",
    "        #calc max(m, ri[i]+pi[length-i])\n",
    "        m = max(pi[i-1]+ri[j-i], m)\n",
    "\n",
    "    ri[j] = m\n",
    "        \n",
    "print(ri[length-1])"
   ]
  },
  {
   "cell_type": "code",
   "execution_count": null,
   "id": "20e1e73f",
   "metadata": {},
   "outputs": [],
   "source": []
  }
 ],
 "metadata": {
  "kernelspec": {
   "display_name": "Python 3",
   "language": "python",
   "name": "python3"
  },
  "language_info": {
   "codemirror_mode": {
    "name": "ipython",
    "version": 3
   },
   "file_extension": ".py",
   "mimetype": "text/x-python",
   "name": "python",
   "nbconvert_exporter": "python",
   "pygments_lexer": "ipython3",
   "version": "3.8.10"
  }
 },
 "nbformat": 4,
 "nbformat_minor": 5
}
