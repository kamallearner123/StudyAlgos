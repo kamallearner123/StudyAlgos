{
 "cells": [
  {
   "cell_type": "code",
   "execution_count": 10,
   "metadata": {},
   "outputs": [
    {
     "name": "stdout",
     "output_type": "stream",
     "text": [
      "[-6, 0, 4, 8, 12, 33, 87, 90, 345]\n",
      "[]\n",
      "[4]\n"
     ]
    }
   ],
   "source": [
    "\n",
    "def merge(l1,l2):\n",
    "    l3 = []\n",
    "    i, j = 0, 0\n",
    "    while i<len(l1) and j<len(l2):\n",
    "        if l1[i]<l2[j]:\n",
    "            l3.append(l1[i])\n",
    "            i += 1\n",
    "        else:\n",
    "            l3.append(l2[j])\n",
    "            j += 1\n",
    "    l3 += l1[i:]+l2[j:]\n",
    "    return l3\n",
    "def merge_sort(in_list):\n",
    "    \n",
    "    if len(in_list) <= 1:\n",
    "        return in_list\n",
    "    \n",
    "    s = 0\n",
    "    m = len(in_list)//2\n",
    "    \n",
    "    #split the array and get it sorted and then merge\n",
    "    l1 = merge_sort(in_list[s:m])\n",
    "    l2 = merge_sort(in_list[m:len(in_list)+1])\n",
    "    l3 = merge(l1,l2)\n",
    "    \n",
    "    return l3\n",
    "    \n",
    "a = [4,-6,87,90,8,0,12,33,345]\n",
    "print(merge_sort(a))\n",
    "print(merge_sort([]))\n",
    "print(merge_sort([4]))"
   ]
  },
  {
   "cell_type": "code",
   "execution_count": null,
   "metadata": {},
   "outputs": [],
   "source": []
  }
 ],
 "metadata": {
  "kernelspec": {
   "display_name": "Python 3",
   "language": "python",
   "name": "python3"
  },
  "language_info": {
   "codemirror_mode": {
    "name": "ipython",
    "version": 3
   },
   "file_extension": ".py",
   "mimetype": "text/x-python",
   "name": "python",
   "nbconvert_exporter": "python",
   "pygments_lexer": "ipython3",
   "version": "3.8.10"
  }
 },
 "nbformat": 4,
 "nbformat_minor": 4
}
