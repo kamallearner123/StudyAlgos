{
 "cells": [
  {
   "cell_type": "code",
   "execution_count": 37,
   "id": "f0636d4a",
   "metadata": {},
   "outputs": [
    {
     "name": "stdout",
     "output_type": "stream",
     "text": [
      "[0, 1, 3, 3, 10, 5, 11, 7, 36, 9, 19, 11, 42, 13, 27, 15]\n",
      "[0, 1, 2, 3, 4, 5, 6, 7, 8, 9, 10, 11, 12, 13, 14, 15]\n",
      "9\n",
      " 27 13\n",
      "14\n"
     ]
    }
   ],
   "source": [
    "#Fenwick tree\n",
    "from copy import deepcopy\n",
    "\n",
    "class FinWickTree:\n",
    "    def __init__(self, array):\n",
    "        self.array = array\n",
    "        self.createTree()\n",
    "        \n",
    "    def getLSB(self, num):\n",
    "        if num == 0:\n",
    "            return 0\n",
    "        pos = 1\n",
    "        while num != 0 and num&1 != 1:\n",
    "            num = num >> 1\n",
    "            pos +=1\n",
    "\n",
    "        return 2**(pos-1)\n",
    "\n",
    "    def createTree(self):\n",
    "        self.tree = deepcopy(self.array)\n",
    "\n",
    "        for i in range(len(self.tree)):\n",
    "            pos = getLSB(i)\n",
    "            total = self.array[i]\n",
    "            for j in range(1,pos):\n",
    "                total += self.array[i-j]\n",
    "            self.tree[i] = total\n",
    "            \n",
    "    def getSum(self, i):\n",
    "        total = 0\n",
    "        if i<=0:\n",
    "            return 0\n",
    "        total = self.tree[i]\n",
    "\n",
    "        while i<=0:\n",
    "            print(i)\n",
    "\n",
    "            i -= getLSB(i)\n",
    "            print(i)\n",
    "            total += self.tree[i]\n",
    "\n",
    "        return total \n",
    "\n",
    "    def getRangeSum(self, i,j):\n",
    "        return self.getSum(j)-self.getSum(i-1)\n",
    "\n",
    "    def __getititem__(self, index):\n",
    "        if index == 0:\n",
    "            return 0\n",
    "        if index%2 == 1:\n",
    "            return self.tree[index]\n",
    "        \n",
    "        print(\" {} {}\".format(self.getRangeSum(0,index), self.getRangeSum(0,index-1)))\n",
    "        return self.getRangeSum(0,index)-self.getRangeSum(0,index-1)\n",
    "    \n",
    "    def updateValue(self, index, val):\n",
    "        diff = self.getValue(index) - val\n",
    "        pos = getLSB(i)\n",
    "        while pos >= len(self.tree):\n",
    "            self.tree[pos] += diff\n",
    "            pos = getLSB(i)\n",
    "    \n",
    "a = [0,1,2,3,4,5,6,7,8,9,10,11,12,13,14,15]\n",
    "tree=FinWickTree(a)\n",
    "print(tree.tree)\n",
    "print(tree.array)\n",
    "\n",
    "print(tree.getRangeSum(2,4))\n",
    "print(tree.getValue(14))"
   ]
  },
  {
   "cell_type": "code",
   "execution_count": null,
   "id": "a9131ca7",
   "metadata": {},
   "outputs": [],
   "source": []
  },
  {
   "cell_type": "code",
   "execution_count": null,
   "id": "497489ec",
   "metadata": {},
   "outputs": [],
   "source": []
  }
 ],
 "metadata": {
  "kernelspec": {
   "display_name": "Python 3",
   "language": "python",
   "name": "python3"
  },
  "language_info": {
   "codemirror_mode": {
    "name": "ipython",
    "version": 3
   },
   "file_extension": ".py",
   "mimetype": "text/x-python",
   "name": "python",
   "nbconvert_exporter": "python",
   "pygments_lexer": "ipython3",
   "version": "3.8.10"
  }
 },
 "nbformat": 4,
 "nbformat_minor": 5
}
