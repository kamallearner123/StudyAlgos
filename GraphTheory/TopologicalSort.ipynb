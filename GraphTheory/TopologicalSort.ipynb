{
 "cells": [
  {
   "cell_type": "markdown",
   "metadata": {},
   "source": [
    "Topological sort:\n",
    "- Uses DFS\n",
    "- Useful for Directed Acyclic Graph\n",
    "- "
   ]
  },
  {
   "cell_type": "code",
   "execution_count": 1,
   "metadata": {},
   "outputs": [
    {
     "name": "stdout",
     "output_type": "stream",
     "text": [
      "v = 0\n",
      "v = 2\n",
      "v = 4\n",
      "v = 6\n",
      "[6]\n",
      "v = 5\n",
      "[6, 5]\n",
      "v = 3\n",
      "v = 4\n",
      "v = 1\n",
      "v = 2\n",
      "[6, 5, 1]\n",
      "[6, 5, 1, 3]\n",
      "[6, 5, 1, 3, 4]\n",
      "[6, 5, 1, 3, 4, 2]\n",
      "[6, 5, 1, 3, 4, 2, 0]\n"
     ]
    }
   ],
   "source": [
    "V = list(range(7))\n",
    "E = [[1,2], [2], [3,4], [4], [5,6], [], []]    \n",
    "\n",
    "visited = []\n",
    "stack = []\n",
    "sorted_arr = []\n",
    "\n",
    "def dfs(v):\n",
    "    print(f\"v = {v}\")\n",
    "    #check if it is there in visited\n",
    "    if v in visited:\n",
    "        return\n",
    "    \n",
    "    #add the entry in visited\n",
    "    visited.append(v)\n",
    "    \n",
    "    if len(E[v]) == 0:\n",
    "        sorted_arr.append(v)\n",
    "        print(sorted_arr)\n",
    "        return\n",
    "    \n",
    "    #Add all neighbours to stack\n",
    "    stack.extend(E[v])\n",
    "    \n",
    "    #Get entry from stack and call dfs()\n",
    "    while len(stack) != 0:\n",
    "        dfs(stack.pop())\n",
    "    sorted_arr.append(v)\n",
    "    print(sorted_arr)\n",
    "    \n",
    "for vertex in V:\n",
    "    if vertex in visited:\n",
    "        continue\n",
    "    dfs(vertex)\n"
   ]
  },
  {
   "cell_type": "code",
   "execution_count": null,
   "metadata": {},
   "outputs": [],
   "source": [
    "temp = 33\n",
    "humidity = 70\n",
    "\n",
    "rain_fall = ?\n",
    "\n",
    "#Decision tree\n",
    "if temp>30:\n",
    "    print(\"No rain\")\n",
    "\n",
    "if temp>25:\n",
    "    if humidity>70:\n",
    "        print(\"rain fall change is there\")\n",
    "    else:\n",
    "        print(\"No rain\")\n",
    "if humidity>50:\n",
    "    print(\"rain fall is there\")\n",
    "\n",
    "\n",
    "    \n",
    "    \n",
    "#Neural network\n",
    "log(temp*w1+humidity*w2+offset) < .5 --> 1\n",
    ">=.5  -->0\n"
   ]
  },
  {
   "cell_type": "code",
   "execution_count": null,
   "metadata": {},
   "outputs": [],
   "source": [
    "temp, hum, rain\n",
    "30,50, 1\n",
    "25,70, 1\n",
    "20,50, 1\n",
    "30,50, 0\n",
    "\n"
   ]
  },
  {
   "cell_type": "code",
   "execution_count": 2,
   "metadata": {},
   "outputs": [
    {
     "ename": "ModuleNotFoundError",
     "evalue": "No module named 'sklearnkit'",
     "output_type": "error",
     "traceback": [
      "\u001b[0;31m---------------------------------------------------------------------------\u001b[0m",
      "\u001b[0;31mModuleNotFoundError\u001b[0m                       Traceback (most recent call last)",
      "\u001b[0;32m<ipython-input-2-a45f622c20c7>\u001b[0m in \u001b[0;36m<module>\u001b[0;34m\u001b[0m\n\u001b[0;32m----> 1\u001b[0;31m \u001b[0;32mimport\u001b[0m \u001b[0msklearnkit\u001b[0m\u001b[0;34m\u001b[0m\u001b[0;34m\u001b[0m\u001b[0m\n\u001b[0m",
      "\u001b[0;31mModuleNotFoundError\u001b[0m: No module named 'sklearnkit'"
     ]
    }
   ],
   "source": [
    "import sklearnkit"
   ]
  },
  {
   "cell_type": "code",
   "execution_count": 2,
   "metadata": {},
   "outputs": [
    {
     "name": "stdout",
     "output_type": "stream",
     "text": [
      "6\n",
      "1\n"
     ]
    }
   ],
   "source": [
    "import pandas as pd\n",
    "\n",
    "import os\n",
    "file = \"~/Documents/sachin_Test_batting.csv\"\n",
    "df = pd.read_csv(file)\n",
    "opponent = \"v Sri Lanka\"\n",
    "print(len(df[(df.Runs>50) & (df.Opposition == opponent) & (df.Result==\"Won\")]) )\n",
    "print(len(df[(df.Runs>50) & (df.Opposition == opponent) & (df.Result==\"Loss\")]) )"
   ]
  },
  {
   "cell_type": "code",
   "execution_count": 23,
   "metadata": {},
   "outputs": [
    {
     "data": {
      "text/plain": [
       "22"
      ]
     },
     "execution_count": 23,
     "metadata": {},
     "output_type": "execute_result"
    }
   ],
   "source": [
    "150%32"
   ]
  },
  {
   "cell_type": "code",
   "execution_count": null,
   "metadata": {},
   "outputs": [],
   "source": [
    "00 00 04 00\n",
    "8  8  4+1\n",
    "--->"
   ]
  }
 ],
 "metadata": {
  "kernelspec": {
   "display_name": "Python 3",
   "language": "python",
   "name": "python3"
  },
  "language_info": {
   "codemirror_mode": {
    "name": "ipython",
    "version": 3
   },
   "file_extension": ".py",
   "mimetype": "text/x-python",
   "name": "python",
   "nbconvert_exporter": "python",
   "pygments_lexer": "ipython3",
   "version": "3.8.10"
  }
 },
 "nbformat": 4,
 "nbformat_minor": 4
}
