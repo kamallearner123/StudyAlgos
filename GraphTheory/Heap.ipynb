{
 "cells": [
  {
   "cell_type": "code",
   "execution_count": 16,
   "id": "c9034d0b",
   "metadata": {},
   "outputs": [
    {
     "name": "stdout",
     "output_type": "stream",
     "text": [
      "[5, 6, 7, 8, 11, 14, 19, 13, 12, 12]\n",
      "5\n",
      "6\n",
      "7\n",
      "8\n",
      "11\n",
      "12\n",
      "12\n",
      "13\n",
      "14\n",
      "19\n"
     ]
    }
   ],
   "source": [
    "heap = []\n",
    "\n",
    "\n",
    "def insert(heap, val):\n",
    "    i = len(heap)\n",
    "    heap.append(val)\n",
    "    \n",
    "    while i>0:\n",
    "        if heap[i//2] > heap[i]:\n",
    "            heap[i], heap[i//2] = heap[i//2], heap[i]\n",
    "            i //= 2\n",
    "        else:\n",
    "            break\n",
    "\n",
    "    return\n",
    "    \n",
    "\n",
    "def pop(heap):\n",
    "    ret = heap[0]\n",
    "    tmp = heap.pop()\n",
    "    heap_len = len(heap)\n",
    "    if heap_len == 0:\n",
    "        return tmp\n",
    "    heap[0] = tmp\n",
    "\n",
    "    i=0\n",
    "    while i*2+1<heap_len:\n",
    "        if heap[i*2+1]<=heap[i]:\n",
    "            if i*2+2<heap_len and heap[i*2+2]<heap[i]:    \n",
    "                min_i = i*2+1 if heap[i*2+1]<heap[i*2+2] else i*2+2\n",
    "            else:\n",
    "                min_i = i*2+1\n",
    "        elif i*2+2<heap_len and heap[i*2+2]<heap[i]:\n",
    "            min_i = i*2+2\n",
    "        else:\n",
    "            break\n",
    "\n",
    "        heap[min_i], heap[i] = heap[i], heap[min_i]\n",
    "        i = min_i\n",
    "    return ret\n",
    "\n",
    "                \n",
    "arr = [5,6,12,8,7,14,19,13,12,11]\n",
    "for item in arr:\n",
    "    insert(heap , item)\n",
    "print(heap)\n",
    "for i in range(len(arr)):\n",
    "    print(pop(heap))\n"
   ]
  },
  {
   "cell_type": "code",
   "execution_count": null,
   "id": "5197354a",
   "metadata": {},
   "outputs": [],
   "source": []
  }
 ],
 "metadata": {
  "kernelspec": {
   "display_name": "Python 3",
   "language": "python",
   "name": "python3"
  },
  "language_info": {
   "codemirror_mode": {
    "name": "ipython",
    "version": 3
   },
   "file_extension": ".py",
   "mimetype": "text/x-python",
   "name": "python",
   "nbconvert_exporter": "python",
   "pygments_lexer": "ipython3",
   "version": "3.8.10"
  }
 },
 "nbformat": 4,
 "nbformat_minor": 5
}
