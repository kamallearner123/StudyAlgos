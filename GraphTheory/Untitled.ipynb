{
 "cells": [
  {
   "cell_type": "code",
   "execution_count": null,
   "id": "e480a910",
   "metadata": {},
   "outputs": [],
   "source": [
    "\n",
    "\n",
    "\n",
    "class RBNode:\n",
    "    root = None\n",
    "    \n",
    "    def __init__(self, data):\n",
    "        self.data = data\n",
    "        self.color = 0\n",
    "        self.left = None\n",
    "        self.right = None\n",
    "        #insert the node here.\n",
    "    \n",
    "    def insert(self):\n",
    "        if Node.root == None:\n",
    "            Node.root = self\n",
    "            print(\"Root created\")\n",
    "            return\n"
   ]
  },
  {
   "cell_type": "code",
   "execution_count": null,
   "id": "29d699ef",
   "metadata": {},
   "outputs": [],
   "source": [
    "\n",
    "\n",
    "a = 10\n",
    "b = 120\n",
    "\n",
    "\n",
    "case 1: (  (b>0) && (a>0) && (MAX-a < b) ) ||\n",
    "    \n",
    "\n",
    "a = -120\n",
    "b = -10\n",
    "\n",
    "-128-NUM\n",
    "\n",
    "-128-A = -8 > b\n",
    "\n",
    "case 2: ( (a<0) && (b<0) && (MIN-a > b))\n",
    "    \n",
    "\n"
   ]
  },
  {
   "cell_type": "code",
   "execution_count": null,
   "id": "651a4744",
   "metadata": {},
   "outputs": [],
   "source": [
    "\n",
    "\n",
    "class Node"
   ]
  }
 ],
 "metadata": {
  "kernelspec": {
   "display_name": "Python 3",
   "language": "python",
   "name": "python3"
  },
  "language_info": {
   "codemirror_mode": {
    "name": "ipython",
    "version": 3
   },
   "file_extension": ".py",
   "mimetype": "text/x-python",
   "name": "python",
   "nbconvert_exporter": "python",
   "pygments_lexer": "ipython3",
   "version": "3.8.10"
  }
 },
 "nbformat": 4,
 "nbformat_minor": 5
}
