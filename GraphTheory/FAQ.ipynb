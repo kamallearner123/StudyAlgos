{
 "cells": [
  {
   "cell_type": "code",
   "execution_count": 5,
   "id": "481d4d8e",
   "metadata": {},
   "outputs": [
    {
     "name": "stdout",
     "output_type": "stream",
     "text": [
      "[1, 5, 14, 14, 4, 44, 74]\n"
     ]
    }
   ],
   "source": [
    "#index tree\n",
    "#Fenwick tree\n",
    "\n",
    "array = [1,4,9,0,-10,40,30]\n",
    "tree = [None] * len(array)\n",
    "tree[0] = array[0]\n",
    "for i in range(1,len(array)):\n",
    "    tree[i] = array[i]+tree[i-1]\n",
    "print(tree)"
   ]
  },
  {
   "cell_type": "code",
   "execution_count": 7,
   "id": "b35812f8",
   "metadata": {},
   "outputs": [
    {
     "name": "stdout",
     "output_type": "stream",
     "text": [
      "[[3, 5, 8, 9, 90], [1, 4, 7, 44, 77], [2, 4], [3]]\n",
      "[1, 4, 7, 44, 77]\n"
     ]
    }
   ],
   "source": [
    "#Find sequence of number in decreasing order where its sum is max of other sequences\n",
    "import math\n",
    "\n",
    "array = [3,5,1,4,8,7,9,90,44,2,4,3,77]\n",
    "\n",
    "result = []\n",
    "\n",
    "for element in array:\n",
    "    for sub in result:\n",
    "        if sub[-1] < element:\n",
    "            sub.append(element)\n",
    "            break\n",
    "    else:\n",
    "        result.append([element])\n",
    "print(result)\n",
    "\n",
    "total = -math.inf\n",
    "for sub in result:\n",
    "    if total < sum(sub):\n",
    "        total = sum(sub)\n",
    "        result = sub\n",
    "print(result)"
   ]
  },
  {
   "cell_type": "code",
   "execution_count": null,
   "id": "10d7f0bc",
   "metadata": {},
   "outputs": [],
   "source": []
  }
 ],
 "metadata": {
  "kernelspec": {
   "display_name": "Python 3",
   "language": "python",
   "name": "python3"
  },
  "language_info": {
   "codemirror_mode": {
    "name": "ipython",
    "version": 3
   },
   "file_extension": ".py",
   "mimetype": "text/x-python",
   "name": "python",
   "nbconvert_exporter": "python",
   "pygments_lexer": "ipython3",
   "version": "3.8.10"
  }
 },
 "nbformat": 4,
 "nbformat_minor": 5
}
