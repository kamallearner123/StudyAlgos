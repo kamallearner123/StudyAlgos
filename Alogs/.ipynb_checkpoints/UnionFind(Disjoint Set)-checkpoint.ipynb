{
 "cells": [
  {
   "cell_type": "code",
   "execution_count": 12,
   "id": "79403368",
   "metadata": {},
   "outputs": [
    {
     "ename": "IndentationError",
     "evalue": "expected an indented block (<ipython-input-12-146230d0559e>, line 14)",
     "output_type": "error",
     "traceback": [
      "\u001b[0;36m  File \u001b[0;32m\"<ipython-input-12-146230d0559e>\"\u001b[0;36m, line \u001b[0;32m14\u001b[0m\n\u001b[0;31m    @classmethod\u001b[0m\n\u001b[0m    ^\u001b[0m\n\u001b[0;31mIndentationError\u001b[0m\u001b[0;31m:\u001b[0m expected an indented block\n"
     ]
    }
   ],
   "source": [
    "class own_method(self):\n",
    "    print(\"hurry\")\n",
    "\n",
    "class Node:\n",
    "    nodes = []\n",
    "    def __init__(self, iname):\n",
    "        self.name = iname\n",
    "        Node.nodes.append(iname)\n",
    "        self.parent = None\n",
    "        \n",
    "    def get_parent(self):\n",
    "        node = self.parent\n",
    "        while node!=None:\n",
    "            node = node.parent\n",
    "            \n",
    "    @classmethod\n",
    "    def union(cls, node1, node2):\n",
    "        parent1 = node1.get_parent()\n",
    "        parent2 = node2.get_parent()\n",
    "        \n",
    "        if parent1.name == parent2.name and parent1.parent!=-1:\n",
    "            print(\"Making loop... Return\")\n",
    "        return\n",
    "    def add_node(self):\n",
    "        self.mynodes += 1\n",
    "\n",
    "n1 = Node(\"1\")\n",
    "n2 = Node(\"2\")\n",
    "n3 = Node(\"3\")\n",
    "n4 = Node(\"4\")\n",
    "n5 = Node(\"5\")\n",
    "n6 = Node(\"6\")\n",
    "n7 = Node(\"7\")\n",
    "n8 = Node(\"8\")\n",
    "\n",
    "\n",
    "\n",
    "print(Node.nodes)"
   ]
  },
  {
   "cell_type": "code",
   "execution_count": null,
   "id": "3f5969de",
   "metadata": {},
   "outputs": [],
   "source": []
  }
 ],
 "metadata": {
  "kernelspec": {
   "display_name": "Python 3",
   "language": "python",
   "name": "python3"
  },
  "language_info": {
   "codemirror_mode": {
    "name": "ipython",
    "version": 3
   },
   "file_extension": ".py",
   "mimetype": "text/x-python",
   "name": "python",
   "nbconvert_exporter": "python",
   "pygments_lexer": "ipython3",
   "version": "3.8.10"
  }
 },
 "nbformat": 4,
 "nbformat_minor": 5
}
