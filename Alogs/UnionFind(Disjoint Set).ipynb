{
 "cells": [
  {
   "cell_type": "code",
   "execution_count": 45,
   "id": "816942c4",
   "metadata": {},
   "outputs": [
    {
     "name": "stdout",
     "output_type": "stream",
     "text": [
      "parent1 1, parent2 2\n",
      "parent1 2, parent2 3\n",
      "parent1 2, parent2 4\n",
      "parent1 2, parent2 2\n",
      "Making loop... Return\n",
      "parent1 5, parent2 6\n",
      "parent1 6, parent2 6\n",
      "Making loop... Return\n",
      "parent1 2, parent2 6\n",
      "Error\n",
      "['2', '6']\n",
      "['1', '2', '3', '4', '5', '6', '7', '8']\n"
     ]
    }
   ],
   "source": [
    "def own_method(self):\n",
    "    print(\"hurry\")\n",
    "\n",
    "class Node:\n",
    "    nodes = []\n",
    "    parent_nodes = []\n",
    "    def __init__(self, iname):\n",
    "        self.name = iname\n",
    "        Node.nodes.append(iname)\n",
    "        self.parent = None\n",
    "        self.mynodes=0\n",
    "        \n",
    "    def get_parent(node):\n",
    "        while node.parent!=None:\n",
    "            node = node.parent\n",
    "        return node\n",
    "            \n",
    "    @classmethod\n",
    "    def union(cls, node1, node2):\n",
    "        parent1 = node1.get_parent()\n",
    "        parent2 = node2.get_parent()\n",
    "        \n",
    "        print(f\"parent1 {parent1.name}, parent2 {parent2.name}\")\n",
    "        \n",
    "        if parent1.mynodes == 0:\n",
    "            node1.parent = parent2\n",
    "            parent2.add_node()\n",
    "            return\n",
    "        elif parent2.mynodes == 0:\n",
    "            node2.parent = parent1\n",
    "            parent1.add_node()\n",
    "            return\n",
    "        elif parent1.name == parent2.name and parent1.mynodes!=0:\n",
    "            print(\"Making loop... Return\")\n",
    "            return\n",
    "        else:\n",
    "            print(\"Error\")\n",
    "            \n",
    "        return\n",
    "    def add_node(self):\n",
    "        self.mynodes += 1\n",
    "        if self.name not in Node.parent_nodes:\n",
    "            Node.parent_nodes.append(self.name)\n",
    "\n",
    "n1 = Node(\"1\")\n",
    "n2 = Node(\"2\")\n",
    "n3 = Node(\"3\")\n",
    "n4 = Node(\"4\")\n",
    "n5 = Node(\"5\")\n",
    "n6 = Node(\"6\")\n",
    "n7 = Node(\"7\")\n",
    "n8 = Node(\"8\")\n",
    "\n",
    "Node.union(n1,n2)\n",
    "Node.union(n1,n3)\n",
    "Node.union(n3,n4)\n",
    "Node.union(n3,n4)\n",
    "\n",
    "Node.union(n5,n6)\n",
    "Node.union(n5,n6)\n",
    "Node.union(n1,n6)\n",
    "print(Node.parent_nodes)\n",
    "\n",
    "print(Node.nodes)"
   ]
  },
  {
   "cell_type": "code",
   "execution_count": null,
   "id": "c967ab8d",
   "metadata": {},
   "outputs": [],
   "source": []
  }
 ],
 "metadata": {
  "kernelspec": {
   "display_name": "Python 3",
   "language": "python",
   "name": "python3"
  },
  "language_info": {
   "codemirror_mode": {
    "name": "ipython",
    "version": 3
   },
   "file_extension": ".py",
   "mimetype": "text/x-python",
   "name": "python",
   "nbconvert_exporter": "python",
   "pygments_lexer": "ipython3",
   "version": "3.8.10"
  }
 },
 "nbformat": 4,
 "nbformat_minor": 5
}
